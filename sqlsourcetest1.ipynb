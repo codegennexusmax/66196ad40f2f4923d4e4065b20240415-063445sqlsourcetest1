{
 "cells": [
  {
   "cell_type": "markdown",
   "id": "44e8340b",
   "metadata": {},
   "source": [
    "***GENERATED CODE FOR sqlsourcetest1 PIPELINE.***"
   ]
  },
  {
   "cell_type": "markdown",
   "id": "938fbd0a",
   "metadata": {},
   "source": [
    "***DON'T EDIT THIS CODE.***"
   ]
  },
  {
   "cell_type": "markdown",
   "id": "646241c0",
   "metadata": {},
   "source": [
    "***CONNECTOR FUNCTIONS TO READ DATA.***"
   ]
  },
  {
   "cell_type": "code",
   "execution_count": null,
   "id": "abb0c40e",
   "metadata": {},
   "outputs": [],
   "source": [
    "import warnings\n",
    "warnings.filterwarnings('ignore')\n",
    "\n",
    "\n",
    "class RDBMSConnector:\n",
    "\n",
    "    def fetch(spark, config):\n",
    "        drivers = {\"mssql\": \"com.microsoft.sqlserver.jdbc.SQLServerDriver\"}\n",
    "        return spark.read.format(\"jdbc\") \\\n",
    "            .option(\"url\", f\"jdbc:sqlserver://{eval(config)['host']}:{eval(config)['port']};databaseName={eval(config)['database']}\") \\\n",
    "            .option(eval(config)['qtype'], eval(config)['query']) \\\n",
    "            .option(\"user\", eval(config)['user']) \\\n",
    "            .option(\"password\", eval(config)['password']) \\\n",
    "            .option(\"driver\",  \"com.microsoft.sqlserver.jdbc.SQLServerDriver\") \\\n",
    "            .load()\n",
    "\n",
    "    def put(df, spark, config):\n",
    "        drivers = {\"mssql\": \"com.microsoft.sqlserver.jdbc.SQLServerDriver\"}\n",
    "        # Write modes: overwrite, append\n",
    "        df.write.mode(eval(config)['writemode'])\\\n",
    "            .format('jdbc') \\\n",
    "            .option(\"url\", f\"jdbc:{eval(config)['dbtype']}://{eval(config)['host']}:{eval(config)['port']};databaseName={eval(config)['database']}\") \\\n",
    "            .option(\"dbtable\", eval(config)['table']) \\\n",
    "            .option(\"user\", eval(config)['user']) \\\n",
    "            .option(\"password\", eval(config)['password']) \\\n",
    "            .option(\"driver\",  \"com.microsoft.sqlserver.jdbc.SQLServerDriver\") \\\n",
    "            .save()\n"
   ]
  },
  {
   "cell_type": "markdown",
   "id": "7d925b9b",
   "metadata": {},
   "source": [
    "***OPERATION FUNCTIONS***"
   ]
  },
  {
   "cell_type": "code",
   "execution_count": null,
   "id": "55d3f653",
   "metadata": {},
   "outputs": [],
   "source": [
    "import pyspark\n",
    "from dask.dataframe import from_pandas\n",
    "import json\n",
    "\n",
    "\n",
    "def aggregation(df, functionsData, applyOn, additionalFunctions):\n",
    "    dfcp = df\n",
    "    maincolumn = functionsData[0]['aggregateOn'][0]['columnName']\n",
    "    mainagg = functionsData[0]['aggregateFunction']\n",
    "    addfuncs = additionalFunctions\n",
    "    for cols in dfcp.columns:\n",
    "        if cols not in addfuncs:\n",
    "            if cols != maincolumn:\n",
    "                addfuncs[cols] = mainagg\n",
    "    dfcp1 = dfcp.groupby(maincolumn).agg(addfuncs).drop(\n",
    "        maincolumn, axis=1).reset_index(drop=False)\n",
    "    return dfcp1\n",
    "\n",
    "\n",
    "def runDataCleansing(sparkDf, spark, config):\n",
    "    configObj = json.loads(config)\n",
    "    sparkDf.persist(pyspark.StorageLevel.MEMORY_AND_DISK)\n",
    "    df = from_pandas((sparkDf.toPandas()), npartitions=5)\n",
    "    functionList = configObj['functionsApplied']\n",
    "    Data_Cleansing_Methods = {\"replaceBy\": replaceValues,\n",
    "                              \"formula\": calculateFormula,\n",
    "                              \"aggregate\": aggregation,\n",
    "                              \"converttostringtype\": changeToString,\n",
    "                              \"editname\": renameColumns}\n",
    "    for function in functionList:\n",
    "        function['functionName']\n",
    "        df = Data_Cleansing_Methods[function['functionName']](df, function['functionsData'],\n",
    "                                                              function['applyOn'])\n",
    "    sparkDf = spark.createDataFrame(df.compute())\n",
    "\n",
    "    display(sparkDf.limit(2).toPandas())\n",
    "    return sparkDf\n"
   ]
  },
  {
   "cell_type": "markdown",
   "id": "e59e4626",
   "metadata": {},
   "source": [
    "***CONNECTOR FUNCTIONS TO WRITE DATA.***"
   ]
  },
  {
   "cell_type": "code",
   "execution_count": null,
   "id": "8c876450",
   "metadata": {},
   "outputs": [],
   "source": [
    "import datetime\n",
    "import requests\n",
    "import datetime\n",
    "import logging\n",
    "import warnings\n",
    "warnings.filterwarnings('ignore')\n",
    "logging.basicConfig(format='%(levelname)s:%(message)s', level=logging.INFO)\n",
    "\n",
    "\n",
    "class NumtraConnector:\n",
    "\n",
    "    def put(inStages, inStagesData, stageId, spark, config):\n",
    "        path = eval(config)['server_url']\n",
    "        baseType = eval(config)['baseType']\n",
    "        results_url = eval(config)['results_url']\n",
    "        server = eval(config)['server']\n",
    "        originalfile = eval(config)['orignalKey']\n",
    "        eval(config)['pathOnly']\n",
    "        filename = eval(config)['filename']\n",
    "        eval(config)['ser']\n",
    "        eval(config)['user']\n",
    "        eval(config)['password']\n",
    "        eval(config)['authSource']\n",
    "        eval(config)['user_id']\n",
    "        eval(config)['parent_id']\n",
    "        eval(config)['project_id']\n",
    "        time = str(int(datetime.datetime.now().timestamp()))\n",
    "\n",
    "        inStagesData[inStages[0]]\n",
    "\n",
    "        print(path)\n",
    "        print(baseType)\n",
    "        print(results_url)\n",
    "        print(server)\n",
    "        print(originalfile)\n",
    "        print(filename)\n",
    "\n",
    "        args = {\n",
    "            'url': path,\n",
    "            'baseType': baseType,\n",
    "            'originalfile': originalfile,\n",
    "            'filename': time + filename\n",
    "        }\n",
    "\n",
    "        response = requests.post(results_url, args)\n",
    "        return response\n"
   ]
  },
  {
   "cell_type": "markdown",
   "id": "59e1ae5b",
   "metadata": {},
   "source": [
    "***READING DATAFRAME***"
   ]
  },
  {
   "cell_type": "code",
   "execution_count": null,
   "id": "fad9ea11",
   "metadata": {},
   "outputs": [],
   "source": [
    "############## CREATE SPARK SESSION ############################ ENTER YOUR SPARK MASTER IP AND PORT TO CONNECT TO SERVER ################\n",
    "from pyspark.sql import SparkSession\n",
    "spark = SparkSession.builder.master('local[1]').getOrCreate()\n",
    "#%run sqlsourcetest1Hooks.ipynb\n",
    "try:\n",
    "\t#sourcePreExecutionHook()\n",
    "\n",
    "\tsqlserver = RDBMSConnector.fetch(spark, \"{'host': '3.224.22.240', 'port': '14033', 'password': 'StrongPassw3rd', 'database': 'SampleDB', 'user': 'sa', 'qtype': 'dbtable', 'query': 'HeartFailureSample', 'dbtype': 'mssql', 'is_header': 'Use Header Line', 'datacache': 0, 'server_url': '/nexusMax/NexusMaxPlatform/uploads/platform/'}\")\n",
    "\t#sourcePostExecutionHook(sqlserver)\n",
    "\n",
    "except Exception as ex: \n",
    "\tlogging.error(ex)\n",
    "#spark.stop()\n"
   ]
  },
  {
   "cell_type": "markdown",
   "id": "4eb93032",
   "metadata": {},
   "source": [
    "***PERFORMING OPERATIONS***"
   ]
  },
  {
   "cell_type": "code",
   "execution_count": null,
   "id": "60309e23",
   "metadata": {},
   "outputs": [],
   "source": [
    "#%run sqlsourcetest1Hooks.ipynb\n",
    "try:\n",
    "\t#operationPreExecutionHook()\n",
    "\n",
    "datapreparation = runDataCleansing(sqlserver,spark,json.dumps( {\"url\": null, \"source_attributes\": {\"host\": \"3.224.22.240\", \"port\": \"14033\", \"password\": \"StrongPassw3rd\", \"database\": \"SampleDB\", \"user\": \"sa\", \"qtype\": \"dbtable\", \"query\": \"HeartFailureSample\", \"dbtype\": \"mssql\", \"is_header\": \"Use Header Line\", \"datacache\": 0, \"server_url\": \"/nexusMax/NexusMaxPlatform/uploads/platform/\"}, \"DataPrepFile\": null, \"data_source\": \"mssql\", \"startListenerOnly\": 1, \"dateColumnNames\": [], \"FilePath\": \"/FileStore/platform/extra/661cc93161013fea396945db1713162742/0part.csv\", \"requestRatio\": 0.0, \"totalRows\": 61, \"BasicStats\": {\"missingValues\": 0.0, \"numberOfColumns\": 13, \"numberOfRows\": 23, \"duplicateRowCount\": 0, \"stats\": [{\"column\": \"age\", \"alias\": \"age\", \"generated\": 0, \"type\": \"numeric\", \"max\": 90.0, \"min\": 40.0, \"mean\": 58.391304347826086, \"missing\": 0.0, \"stddev\": 11.4, \"outliers\": [90], \"validation\": []}, {\"column\": \"anaemia\", \"alias\": \"anaemia\", \"generated\": 0, \"type\": \"numeric\", \"max\": 8.0, \"min\": 1.0, \"mean\": 2.652173913043478, \"missing\": 0.0, \"stddev\": 2.27, \"outliers\": [7, 6, 8, 6, 6], \"validation\": []}, {\"column\": \"creatinine_phosphokinase\", \"alias\": \"creatinine_phosphokinase\", \"generated\": 0, \"type\": \"real\", \"max\": 1185.0, \"min\": 64.0, \"mean\": 436.30641821946165, \"missing\": 0.0, \"stddev\": 310.95, \"outliers\": [], \"validation\": []}, {\"column\": \"smoking\", \"alias\": \"smoking\", \"generated\": 0, \"type\": \"real\", \"max\": 1.0, \"min\": 0.0, \"mean\": 0.2851966873706004, \"missing\": 0.0, \"stddev\": 0.35, \"outliers\": [1.0, 1.0, 1.0], \"validation\": []}, {\"column\": \"diabetes\", \"alias\": \"diabetes\", \"generated\": 0, \"type\": \"numeric\", \"max\": 8.0, \"min\": 1.0, \"mean\": 2.652173913043478, \"missing\": 0.0, \"stddev\": 2.27, \"outliers\": [7, 6, 8, 6, 6], \"validation\": []}, {\"column\": \"ejection_fraction\", \"alias\": \"ejection_fraction\", \"generated\": 0, \"type\": \"numeric\", \"max\": 8.0, \"min\": 1.0, \"mean\": 2.652173913043478, \"missing\": 0.0, \"stddev\": 2.27, \"outliers\": [7, 6, 8, 6, 6], \"validation\": []}, {\"column\": \"high_blood_pressure\", \"alias\": \"high_blood_pressure\", \"generated\": 0, \"type\": \"numeric\", \"max\": 8.0, \"min\": 1.0, \"mean\": 2.652173913043478, \"missing\": 0.0, \"stddev\": 2.27, \"outliers\": [7, 6, 8, 6, 6], \"validation\": []}, {\"column\": \"platelets\", \"alias\": \"platelets\", \"generated\": 0, \"type\": \"numeric\", \"max\": 8.0, \"min\": 1.0, \"mean\": 2.652173913043478, \"missing\": 0.0, \"stddev\": 2.27, \"outliers\": [7, 6, 8, 6, 6], \"validation\": []}, {\"column\": \"serum_creatinine\", \"alias\": \"serum_creatinine\", \"generated\": 0, \"type\": \"numeric\", \"max\": 8.0, \"min\": 1.0, \"mean\": 2.652173913043478, \"missing\": 0.0, \"stddev\": 2.27, \"outliers\": [7, 6, 8, 6, 6], \"validation\": []}, {\"column\": \"serum_sodium\", \"alias\": \"serum_sodium\", \"generated\": 0, \"type\": \"numeric\", \"max\": 8.0, \"min\": 1.0, \"mean\": 2.652173913043478, \"missing\": 0.0, \"stddev\": 2.27, \"outliers\": [7, 6, 8, 6, 6], \"validation\": []}, {\"column\": \"sex\", \"alias\": \"sex\", \"generated\": 0, \"type\": \"numeric\", \"max\": 8.0, \"min\": 1.0, \"mean\": 2.652173913043478, \"missing\": 0.0, \"stddev\": 2.27, \"outliers\": [7, 6, 8, 6, 6], \"validation\": []}, {\"column\": \"time\", \"alias\": \"time\", \"generated\": 0, \"type\": \"numeric\", \"max\": 8.0, \"min\": 1.0, \"mean\": 2.652173913043478, \"missing\": 0.0, \"stddev\": 2.27, \"outliers\": [7, 6, 8, 6, 6], \"validation\": []}, {\"column\": \"DEATH_EVENT\", \"alias\": \"DEATH_EVENT\", \"generated\": 0, \"type\": \"numeric\", \"max\": 8.0, \"min\": 1.0, \"mean\": 2.652173913043478, \"missing\": 0.0, \"stddev\": 2.27, \"outliers\": [7, 6, 8, 6, 6], \"validation\": []}]}, \"predictionPowerScore\": [{\"DEATH_EVENT\": 1.0, \"age\": 0.0, \"anaemia\": 0.9481981982, \"creatinine_phosphokinase\": 0.2851351351, \"diabetes\": 0.9481981982, \"ejection_fraction\": 0.9481981982, \"high_blood_pressure\": 0.9481981982, \"platelets\": 0.9481981982, \"serum_creatinine\": 0.9481981982, \"serum_sodium\": 0.9481981982, \"sex\": 0.9481981982, \"smoking\": 0.5475975976, \"time\": 0.9481981982}, {\"DEATH_EVENT\": 0.0, \"age\": 1.0, \"anaemia\": 0.0, \"creatinine_phosphokinase\": 0.0, \"diabetes\": 0.0, \"ejection_fraction\": 0.0, \"high_blood_pressure\": 0.0, \"platelets\": 0.0, \"serum_creatinine\": 0.0, \"serum_sodium\": 0.0, \"sex\": 0.0, \"smoking\": 0.0, \"time\": 0.0}, {\"DEATH_EVENT\": 0.9481981982, \"age\": 0.0, \"anaemia\": 1.0, \"creatinine_phosphokinase\": 0.2851351351, \"diabetes\": 0.9481981982, \"ejection_fraction\": 0.9481981982, \"high_blood_pressure\": 0.9481981982, \"platelets\": 0.9481981982, \"serum_creatinine\": 0.9481981982, \"serum_sodium\": 0.9481981982, \"sex\": 0.9481981982, \"smoking\": 0.5475975976, \"time\": 0.9481981982}, {\"DEATH_EVENT\": 0.1186524436, \"age\": 0.0, \"anaemia\": 0.1186524436, \"creatinine_phosphokinase\": 1.0, \"diabetes\": 0.1186524436, \"ejection_fraction\": 0.1186524436, \"high_blood_pressure\": 0.1186524436, \"platelets\": 0.1186524436, \"serum_creatinine\": 0.1186524436, \"serum_sodium\": 0.1186524436, \"sex\": 0.1186524436, \"smoking\": 0.0, \"time\": 0.1186524436}, {\"DEATH_EVENT\": 0.9481981982, \"age\": 0.0, \"anaemia\": 0.9481981982, \"creatinine_phosphokinase\": 0.2851351351, \"diabetes\": 1.0, \"ejection_fraction\": 0.9481981982, \"high_blood_pressure\": 0.9481981982, \"platelets\": 0.9481981982, \"serum_creatinine\": 0.9481981982, \"serum_sodium\": 0.9481981982, \"sex\": 0.9481981982, \"smoking\": 0.5475975976, \"time\": 0.9481981982}, {\"DEATH_EVENT\": 0.9481981982, \"age\": 0.0, \"anaemia\": 0.9481981982, \"creatinine_phosphokinase\": 0.2851351351, \"diabetes\": 0.9481981982, \"ejection_fraction\": 1.0, \"high_blood_pressure\": 0.9481981982, \"platelets\": 0.9481981982, \"serum_creatinine\": 0.9481981982, \"serum_sodium\": 0.9481981982, \"sex\": 0.9481981982, \"smoking\": 0.5475975976, \"time\": 0.9481981982}, {\"DEATH_EVENT\": 0.9481981982, \"age\": 0.0, \"anaemia\": 0.9481981982, \"creatinine_phosphokinase\": 0.2851351351, \"diabetes\": 0.9481981982, \"ejection_fraction\": 0.9481981982, \"high_blood_pressure\": 1.0, \"platelets\": 0.9481981982, \"serum_creatinine\": 0.9481981982, \"serum_sodium\": 0.9481981982, \"sex\": 0.9481981982, \"smoking\": 0.5475975976, \"time\": 0.9481981982}, {\"DEATH_EVENT\": 0.9481981982, \"age\": 0.0, \"anaemia\": 0.9481981982, \"creatinine_phosphokinase\": 0.2851351351, \"diabetes\": 0.9481981982, \"ejection_fraction\": 0.9481981982, \"high_blood_pressure\": 0.9481981982, \"platelets\": 1.0, \"serum_creatinine\": 0.9481981982, \"serum_sodium\": 0.9481981982, \"sex\": 0.9481981982, \"smoking\": 0.5475975976, \"time\": 0.9481981982}, {\"DEATH_EVENT\": 0.9481981982, \"age\": 0.0, \"anaemia\": 0.9481981982, \"creatinine_phosphokinase\": 0.2851351351, \"diabetes\": 0.9481981982, \"ejection_fraction\": 0.9481981982, \"high_blood_pressure\": 0.9481981982, \"platelets\": 0.9481981982, \"serum_creatinine\": 1.0, \"serum_sodium\": 0.9481981982, \"sex\": 0.9481981982, \"smoking\": 0.5475975976, \"time\": 0.9481981982}, {\"DEATH_EVENT\": 0.9481981982, \"age\": 0.0, \"anaemia\": 0.9481981982, \"creatinine_phosphokinase\": 0.2851351351, \"diabetes\": 0.9481981982, \"ejection_fraction\": 0.9481981982, \"high_blood_pressure\": 0.9481981982, \"platelets\": 0.9481981982, \"serum_creatinine\": 0.9481981982, \"serum_sodium\": 1.0, \"sex\": 0.9481981982, \"smoking\": 0.5475975976, \"time\": 0.9481981982}, {\"DEATH_EVENT\": 0.9481981982, \"age\": 0.0, \"anaemia\": 0.9481981982, \"creatinine_phosphokinase\": 0.2851351351, \"diabetes\": 0.9481981982, \"ejection_fraction\": 0.9481981982, \"high_blood_pressure\": 0.9481981982, \"platelets\": 0.9481981982, \"serum_creatinine\": 0.9481981982, \"serum_sodium\": 0.9481981982, \"sex\": 1.0, \"smoking\": 0.5475975976, \"time\": 0.9481981982}, {\"DEATH_EVENT\": 0.0, \"age\": 0.0, \"anaemia\": 0.0, \"creatinine_phosphokinase\": 0.0, \"diabetes\": 0.0, \"ejection_fraction\": 0.0, \"high_blood_pressure\": 0.0, \"platelets\": 0.0, \"serum_creatinine\": 0.0, \"serum_sodium\": 0.0, \"sex\": 0.0, \"smoking\": 1.0, \"time\": 0.0}, {\"DEATH_EVENT\": 0.9481981982, \"age\": 0.0, \"anaemia\": 0.9481981982, \"creatinine_phosphokinase\": 0.2851351351, \"diabetes\": 0.9481981982, \"ejection_fraction\": 0.9481981982, \"high_blood_pressure\": 0.9481981982, \"platelets\": 0.9481981982, \"serum_creatinine\": 0.9481981982, \"serum_sodium\": 0.9481981982, \"sex\": 0.9481981982, \"smoking\": 0.5475975976, \"time\": 1.0}], \"HasBasicStats\": 1, \"functionsApplied\": [{\"functionName\": \"aggregate\", \"applyOn\": [{\"columnName\": \"age\", \"type\": \"numeric\", \"min\": \"40.0\", \"max\": \"90.0\", \"mean\": \"56.5\"}], \"functionsData\": [{\"aggregateFunction\": \"count\", \"aggregateOn\": [{\"columnName\": \"age\", \"type\": \"numeric\", \"min\": \"40.0\", \"max\": \"90.0\", \"mean\": \"56.5\"}], \"groupOn\": [{\"columnName\": \"age\", \"type\": \"numeric\", \"min\": \"40.0\", \"max\": \"90.0\", \"mean\": \"56.5\"}]}], \"additionalFunctions\": {\"anaemia\": \"count\", \"creatinine_phosphokinase\": \"mean\", \"smoking\": \"mean\", \"diabetes\": \"count\", \"ejection_fraction\": \"count\", \"high_blood_pressure\": \"count\", \"platelets\": \"count\", \"serum_creatinine\": \"count\", \"serum_sodium\": \"count\", \"sex\": \"count\", \"time\": \"count\", \"DEATH_EVENT\": \"count\"}}], \"functionChanges\": [{\"columnName\": \"age\", \"functionName\": \"Aggregate\", \"Type\": \"numeric\", \"Parameters\": [{\"aggregateFunction\": \"count\", \"aggregateOn\": [{\"columnName\": \"age\", \"type\": \"numeric\", \"min\": \"40.0\", \"max\": \"90.0\", \"mean\": \"56.5\"}], \"groupOn\": [{\"columnName\": \"age\", \"type\": \"numeric\", \"min\": \"40.0\", \"max\": \"90.0\", \"mean\": \"56.5\"}]}]}], \"fileheader\": [{\"field\": \"age\", \"alias\": \"age\", \"generated\": 0, \"position\": 1, \"type\": \"numeric\"}, {\"field\": \"anaemia\", \"alias\": \"anaemia\", \"generated\": 0, \"position\": 2, \"type\": \"numeric\"}, {\"field\": \"creatinine_phosphokinase\", \"alias\": \"creatinine_phosphokinase\", \"generated\": 0, \"position\": 3, \"type\": \"real\"}, {\"field\": \"smoking\", \"alias\": \"smoking\", \"generated\": 0, \"position\": 4, \"type\": \"real\"}, {\"field\": \"diabetes\", \"alias\": \"diabetes\", \"generated\": 0, \"position\": 5, \"type\": \"numeric\"}, {\"field\": \"ejection_fraction\", \"alias\": \"ejection_fraction\", \"generated\": 0, \"position\": 6, \"type\": \"numeric\"}, {\"field\": \"high_blood_pressure\", \"alias\": \"high_blood_pressure\", \"generated\": 0, \"position\": 7, \"type\": \"numeric\"}, {\"field\": \"platelets\", \"alias\": \"platelets\", \"generated\": 0, \"position\": 8, \"type\": \"numeric\"}, {\"field\": \"serum_creatinine\", \"alias\": \"serum_creatinine\", \"generated\": 0, \"position\": 9, \"type\": \"numeric\"}, {\"field\": \"serum_sodium\", \"alias\": \"serum_sodium\", \"generated\": 0, \"position\": 10, \"type\": \"numeric\"}, {\"field\": \"sex\", \"alias\": \"sex\", \"generated\": 0, \"position\": 11, \"type\": \"numeric\"}, {\"field\": \"time\", \"alias\": \"time\", \"generated\": 0, \"position\": 12, \"type\": \"numeric\"}, {\"field\": \"DEATH_EVENT\", \"alias\": \"DEATH_EVENT\", \"generated\": 0, \"position\": 13, \"type\": \"numeric\"}]}))\n",
    "\t#operationPostExecutionHook(datapreparation)\n",
    "\n",
    "except Exception as ex: \n",
    "\tlogging.error(ex)\n"
   ]
  },
  {
   "cell_type": "markdown",
   "id": "b3ce004c",
   "metadata": {},
   "source": [
    "***WRITING DATAFRAME***"
   ]
  },
  {
   "cell_type": "code",
   "execution_count": null,
   "id": "4be6b4dd",
   "metadata": {},
   "outputs": [],
   "source": [
    "#%run sqlsourcetest1Hooks.ipynb\n",
    "try:\n",
    "\t#sinkPreExecutionHook()\n",
    "\n",
    "\tsourcetestoutput = NumtraConnector.fetch(spark, \"{'samplefile': '/FileStore/platform/sampleData/661cc8a061013fea396945d7/part-00000-41eb2d35-a35e-412c-82d5-e0f3052be69a-c000.csv', 'samplecount': 61, 'originalcount': 61, 'orignalKey': None, 'pathOnly': '/SourceTest', 'project_id': '66190419d2d8940e355ed84e', 'parent_id': '66190419d2d8940e355ed84e', 'original_schema': [{'checked': True, 'inherited': True, 'is_categorical': False, 'bad_values': '', 'nullable': 'true', 'field': 'age', 'alias': 'age', 'type': 'numeric', 'position': '0'}, {'checked': True, 'inherited': True, 'is_categorical': False, 'bad_values': '', 'nullable': 'true', 'field': 'anaemia', 'alias': 'anaemia', 'type': 'numeric', 'position': '1'}, {'checked': True, 'inherited': True, 'is_categorical': False, 'bad_values': '', 'nullable': 'true', 'field': 'creatinine_phosphokinase', 'alias': 'creatinine_phosphokinase', 'type': 'real', 'position': '2'}, {'checked': True, 'inherited': True, 'is_categorical': False, 'bad_values': '', 'nullable': 'true', 'field': 'smoking', 'alias': 'smoking', 'type': 'real', 'position': '3'}, {'checked': True, 'inherited': True, 'is_categorical': False, 'bad_values': '', 'nullable': 'true', 'field': 'diabetes', 'alias': 'diabetes', 'type': 'numeric', 'position': '4'}, {'checked': True, 'inherited': True, 'is_categorical': False, 'bad_values': '', 'nullable': 'true', 'field': 'ejection_fraction', 'alias': 'ejection_fraction', 'type': 'numeric', 'position': '5'}, {'checked': True, 'inherited': True, 'is_categorical': False, 'bad_values': '', 'nullable': 'true', 'field': 'high_blood_pressure', 'alias': 'high_blood_pressure', 'type': 'numeric', 'position': '6'}, {'checked': True, 'inherited': True, 'is_categorical': False, 'bad_values': '', 'nullable': 'true', 'field': 'platelets', 'alias': 'platelets', 'type': 'numeric', 'position': '7'}, {'checked': True, 'inherited': True, 'is_categorical': False, 'bad_values': '', 'nullable': 'true', 'field': 'serum_creatinine', 'alias': 'serum_creatinine', 'type': 'numeric', 'position': '8'}, {'checked': True, 'inherited': True, 'is_categorical': False, 'bad_values': '', 'nullable': 'true', 'field': 'serum_sodium', 'alias': 'serum_sodium', 'type': 'numeric', 'position': '9'}, {'checked': True, 'inherited': True, 'is_categorical': False, 'bad_values': '', 'nullable': 'true', 'field': 'sex', 'alias': 'sex', 'type': 'numeric', 'position': '10'}, {'checked': True, 'inherited': True, 'is_categorical': False, 'bad_values': '', 'nullable': 'true', 'field': 'time', 'alias': 'time', 'type': 'numeric', 'position': '11'}, {'checked': True, 'inherited': True, 'is_categorical': False, 'bad_values': '', 'nullable': 'true', 'field': 'DEATH_EVENT', 'alias': 'DEATH_EVENT', 'type': 'numeric', 'position': '12'}], 'actual_schema': [{'checked': True, 'inherited': True, 'is_categorical': False, 'bad_values': '', 'nullable': 'true', 'field': 'age', 'alias': 'age', 'type': 'numeric', 'position': '0'}, {'checked': True, 'inherited': True, 'is_categorical': False, 'bad_values': '', 'nullable': 'true', 'field': 'anaemia', 'alias': 'anaemia', 'type': 'numeric', 'position': '1'}, {'checked': True, 'inherited': True, 'is_categorical': False, 'bad_values': '', 'nullable': 'true', 'field': 'creatinine_phosphokinase', 'alias': 'creatinine_phosphokinase', 'type': 'numeric', 'position': '2'}, {'checked': True, 'inherited': True, 'is_categorical': False, 'bad_values': '', 'nullable': 'true', 'field': 'diabetes', 'alias': 'diabetes', 'type': 'numeric', 'position': '3'}, {'checked': True, 'inherited': True, 'is_categorical': False, 'bad_values': '', 'nullable': 'true', 'field': 'ejection_fraction', 'alias': 'ejection_fraction', 'type': 'numeric', 'position': '4'}, {'checked': True, 'inherited': True, 'is_categorical': False, 'bad_values': '', 'nullable': 'true', 'field': 'high_blood_pressure', 'alias': 'high_blood_pressure', 'type': 'numeric', 'position': '5'}, {'checked': True, 'inherited': True, 'is_categorical': False, 'bad_values': '', 'nullable': 'true', 'field': 'platelets', 'alias': 'platelets', 'type': 'real', 'position': '6'}, {'checked': True, 'inherited': True, 'is_categorical': False, 'bad_values': '', 'nullable': 'true', 'field': 'serum_creatinine', 'alias': 'serum_creatinine', 'type': 'real', 'position': '7'}, {'checked': True, 'inherited': True, 'is_categorical': False, 'bad_values': '', 'nullable': 'true', 'field': 'serum_sodium', 'alias': 'serum_sodium', 'type': 'numeric', 'position': '8'}, {'checked': True, 'inherited': True, 'is_categorical': False, 'bad_values': '', 'nullable': 'true', 'field': 'sex', 'alias': 'sex', 'type': 'numeric', 'position': '9'}, {'checked': True, 'inherited': True, 'is_categorical': False, 'bad_values': '', 'nullable': 'true', 'field': 'smoking', 'alias': 'smoking', 'type': 'numeric', 'position': '10'}, {'checked': True, 'inherited': True, 'is_categorical': False, 'bad_values': '', 'nullable': 'true', 'field': 'time', 'alias': 'time', 'type': 'numeric', 'position': '11'}, {'checked': True, 'inherited': True, 'is_categorical': False, 'bad_values': '', 'nullable': 'true', 'field': 'DEATH_EVENT', 'alias': 'DEATH_EVENT', 'type': 'numeric', 'position': '12'}], 'server': 'https://dnm.bfirst.ai:443', 'server_url': '/nexusMax/NexusMaxPlatform/uploads/platform/', 'delimiter': ',', 'file_type': 'Delimeted', 'filename': 'HeartFailureS1.csv', 'token': '', 'domain': '', 'is_header': 'Use Header Line', 'url': '/FileStore/platform/uploadedSourceFiles/part-00000-5e54dc9d-1e74-4cba-8ec6-13d5dddf9c9c-c000.csv', 'results_url': 'http://dnm.bfirst.ai:44040/api/read/hdfs'}\")\n",
    "\n",
    "except Exception as ex: \n",
    "\tlogging.error(ex)\n"
   ]
  }
 ],
 "metadata": {},
 "nbformat": 4,
 "nbformat_minor": 5
}
